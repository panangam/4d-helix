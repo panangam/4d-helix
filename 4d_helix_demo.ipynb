{
 "cells": [
  {
   "cell_type": "markdown",
   "metadata": {},
   "source": [
    "# Visualization of 4D Geometry using PCA\n",
    "\n",
    "This notebook demonstrates how to construct a 4-dimensional line by integrating the Frenet Formulas, and visualize it with orthogonal projection. Information on how the 4D Frenet formula is derived can be found in the paper in this repo: https://github.com/panangam/4d-helix\n",
    "\n",
    "The example used here is a 4D helix, an analog to the 3D helix with all the curvatures equal to 1. \n",
    "\n",
    "### Frenet Formulas?\n",
    "\n",
    "<img src=\"https://upload.wikimedia.org/wikipedia/commons/1/11/Frenet.svg\" style=\"height: 300px; width: auto\">\n",
    "\n",
    "\"Frenet-Serret Formulas,\" or sometimes Frenet formulas for short, are the ODEs describing the trajectory of a space curve in terms of tangent, normal, and binormal vectors (T, N, and B). This gives us a way to define a space curve by its curvatures. For example, when you set the curvature ($\\kappa$) and torsion ($\\tau$) to constant values, you get a helix. \n",
    "\n",
    "<img src=\"https://upload.wikimedia.org/wikipedia/commons/8/87/Frenetframehelix.gif\">\n",
    "\n",
    "Here, I generalized the Frenet formulas to work in a 4-dimensional case, which introduces another directional vector (Q) and another curvature ($\\xi$).\n",
    "\n",
    "https://en.wikipedia.org/wiki/Frenet%E2%80%93Serret_formulas\n",
    "\n",
    "### 4D Frenet Formulas\n",
    "\n",
    "<img src=\"4d_frenet.png\" style=\"height: 100px\">\n",
    "\n",
    "### Symbols\n",
    "\n",
    "- `T, N, B, Q`: the tangent, normal, binormal, and the 4th principal direction vectors from the Frenet formulas.\n",
    "- `kappa, tau, xi`: the three curvatures ($\\kappa, \\tau, \\xi$) from the Frenet formulas \n",
    "- `alpha`: the position of the line parametrized by arclength"
   ]
  },
  {
   "cell_type": "code",
   "execution_count": null,
   "metadata": {
    "ExecuteTime": {
     "end_time": "2020-08-16T06:09:35.940283Z",
     "start_time": "2020-08-16T06:09:34.605017Z"
    }
   },
   "outputs": [],
   "source": [
    "import numpy as np\n",
    "from scipy.integrate import solve_ivp, odeint\n",
    "import vedo\n",
    "import matplotlib.pyplot as plt\n",
    "from sklearn.decomposition import PCA\n",
    "\n",
    "from ipywidgets import interactive, FloatSlider, TwoByTwoLayout\n",
    "from IPython.display import display, HTML\n",
    "\n",
    "%config InlineBackend.figure_format = 'retina'\n",
    "default_camera = [0, 0.1, 4, 0, 0, 0, 0, 1, 0]\n",
    "vedo.settings.defaultAxesType = 1"
   ]
  },
  {
   "cell_type": "markdown",
   "metadata": {},
   "source": [
    "## 1) Integrate the ODEs to get the positions"
   ]
  },
  {
   "cell_type": "code",
   "execution_count": null,
   "metadata": {
    "ExecuteTime": {
     "end_time": "2020-08-16T06:09:35.949356Z",
     "start_time": "2020-08-16T06:09:35.942068Z"
    }
   },
   "outputs": [],
   "source": [
    "# set up initial conditions\n",
    "alpha0 = (0, -1, 0, -1)\n",
    "T0 = (1, 0, 0, 0)\n",
    "N0 = (0, 1, 0, 0)\n",
    "B0 = (0, 0, 1, 0)\n",
    "Q0 = (0, 0, 0, 1)\n",
    "y0 = np.stack((alpha0, T0, N0, B0, Q0)).flatten()\n",
    "\n",
    "kappa = 1\n",
    "tau = 1\n",
    "xi = 1\n",
    "\n",
    "# define frenet formula \n",
    "frenet_mat = np.array([\n",
    "    [0, kappa, 0, 0],\n",
    "    [-kappa, 0, tau, 0],\n",
    "    [0, -tau, 0, xi],\n",
    "    [0, 0, -xi, 0]\n",
    "])\n",
    "velocity_mat = np.array([1, 1, 1, 1])\n",
    "\n",
    "def ode_rhs(t, y):\n",
    "    # reshape variables into alpha, T, N, B, Q\n",
    "    vecs = np.reshape(y, (5, 4))\n",
    "    # calculate gradient for T, N, B, Q\n",
    "    frenet_rhs = frenet_mat @ vecs[1:]\n",
    "    # calculate gradient for alpha (velocity * T)\n",
    "    alpha_rhs = velocity_mat * vecs[[1]]\n",
    "    # concatenate flatten into a vector again\n",
    "    return np.concatenate((alpha_rhs, frenet_rhs), axis=0).flatten()"
   ]
  },
  {
   "cell_type": "code",
   "execution_count": null,
   "metadata": {
    "ExecuteTime": {
     "end_time": "2020-08-16T06:09:36.188739Z",
     "start_time": "2020-08-16T06:09:35.951370Z"
    }
   },
   "outputs": [],
   "source": [
    "# solve ODE using scipy's solver\n",
    "min_s, max_s, steps = 0, 500, 2000\n",
    "ts = np.linspace(min_s, max_s, steps)\n",
    "res = solve_ivp(ode_rhs, (min_s, max_s), y0, t_eval=ts)\n",
    "ys = res['y']\n",
    "alpha = ys[:4].T"
   ]
  },
  {
   "cell_type": "markdown",
   "metadata": {},
   "source": [
    "## 2) Visualize\n",
    "\n",
    "First, let's try plotting out the values of each coordinate over time."
   ]
  },
  {
   "cell_type": "code",
   "execution_count": null,
   "metadata": {
    "ExecuteTime": {
     "end_time": "2020-08-16T06:09:36.532629Z",
     "start_time": "2020-08-16T06:09:36.191238Z"
    },
    "scrolled": false
   },
   "outputs": [],
   "source": [
    "plt.plot(alpha[:200])\n",
    "plt.legend('xyzw')\n",
    "plt.show()"
   ]
  },
  {
   "cell_type": "markdown",
   "metadata": {},
   "source": [
    "Unlike the 3D helix which spirals out to infinity, the 4D helix analog is actually bounded! "
   ]
  },
  {
   "cell_type": "markdown",
   "metadata": {},
   "source": [
    "We can also do orthogonal projection using 3 coordinates at a time. This is equivalent to casting shadows onto a lower dimension.\n",
    "\n",
    "<img src=\"https://upload.wikimedia.org/wikipedia/commons/4/48/Axonometric_projection.svg\" style=\"height: 200px\">\n",
    "\n",
    "A 3D object casts a 2D shadow. Likewise, a 4D object casts a 3D shadow, which we can see."
   ]
  },
  {
   "cell_type": "code",
   "execution_count": null,
   "metadata": {
    "ExecuteTime": {
     "end_time": "2020-08-16T06:09:36.544003Z",
     "start_time": "2020-08-16T06:09:36.538967Z"
    }
   },
   "outputs": [],
   "source": [
    "proj_names = ['xyz', 'xyw', 'xzw', 'yzw']\n",
    "proj_vecs = [np.delete(np.arange(4), i) for i in range(4)]"
   ]
  },
  {
   "cell_type": "code",
   "execution_count": null,
   "metadata": {
    "ExecuteTime": {
     "end_time": "2020-08-16T06:09:36.656954Z",
     "start_time": "2020-08-16T06:09:36.545457Z"
    }
   },
   "outputs": [],
   "source": [
    "lines = [vedo.Line(alpha[:, proj_vecs[i]], c='b')+vedo.Text(proj_names[i], (0, 1, 0), 0.5) for i in range(4)]\n",
    "plots = [vedo.show(l) for l in lines]\n",
    "for p in plots: p.camera = default_camera\n",
    "TwoByTwoLayout(top_left=plots[0], top_right=plots[1], bottom_left=plots[2], bottom_right=plots[3])"
   ]
  },
  {
   "cell_type": "markdown",
   "metadata": {},
   "source": [
    "This gives us another view of the bounded nature of the 4D helix."
   ]
  },
  {
   "cell_type": "markdown",
   "metadata": {},
   "source": [
    "## 3) PCA treatment\n",
    "\n",
    "PCA (principal component analysis) projects a set of points into the directions with the maximum variance. In effect, it can be used to find a \"natural\" projecting direction of a shape in higher dimensions. \n",
    "\n",
    "Since PCA components are orthonormal, projecting into the PCA space is also equivalent to a rotation in 4D, thus it does not affect the shape in question."
   ]
  },
  {
   "cell_type": "code",
   "execution_count": null,
   "metadata": {
    "ExecuteTime": {
     "end_time": "2020-08-16T06:09:36.662288Z",
     "start_time": "2020-08-16T06:09:36.658942Z"
    }
   },
   "outputs": [],
   "source": [
    "pca = PCA(n_components=4)\n",
    "alpha_pca = pca.fit_transform(alpha)"
   ]
  },
  {
   "cell_type": "markdown",
   "metadata": {},
   "source": [
    "## 4) Visualize the PCA-treated curve"
   ]
  },
  {
   "cell_type": "code",
   "execution_count": null,
   "metadata": {
    "ExecuteTime": {
     "end_time": "2020-08-16T06:09:37.129936Z",
     "start_time": "2020-08-16T06:09:36.663819Z"
    }
   },
   "outputs": [],
   "source": [
    "plt.plot(alpha_pca[:200])\n",
    "plt.legend('xyzw')\n",
    "plt.show()"
   ]
  },
  {
   "cell_type": "markdown",
   "metadata": {},
   "source": [
    "The PCA projection reveals that the curves are just pairs of sines and cosines! This shows us that the 4D helix in fact lies on a \"flat torus\", a 2-manifold in 4D with torus topology. The formula of such a surface is\n",
    "\n",
    "$$x(u, v) = (a \\cos u, a \\sin u, b \\cos v, b \\sin v)$$\n",
    "\n",
    "Orthogonal projections show that the pairs of waves with the same amplitude are indeed sine and cosine pairs, forming circle when viewed from a correct angle."
   ]
  },
  {
   "cell_type": "code",
   "execution_count": null,
   "metadata": {
    "ExecuteTime": {
     "end_time": "2020-08-16T06:09:37.300243Z",
     "start_time": "2020-08-16T06:09:37.131777Z"
    }
   },
   "outputs": [],
   "source": [
    "lines_pca = [vedo.Line(alpha_pca[:, proj_vecs[i]], c='b')+vedo.Text(proj_names[i], (0, 1, 0), 0.5) for i in range(4)]\n",
    "plots_pca = [vedo.show(l, camera=default_camera) for l in lines_pca]\n",
    "for p in plots_pca: p.camera = default_camera\n",
    "TwoByTwoLayout(top_left=plots_pca[0], top_right=plots_pca[1], bottom_left=plots_pca[2], bottom_right=plots_pca[3])"
   ]
  },
  {
   "cell_type": "markdown",
   "metadata": {},
   "source": [
    "## Conclusion\n",
    "\n",
    "Using PCA shows us visually that the 4D helix lies on very nice surface, a flat torus, even though the initial integrated solution looks chaotic. To me, this is an unexpected application of a very common data analysis technique."
   ]
  }
 ],
 "metadata": {
  "kernelspec": {
   "display_name": "Python 3",
   "language": "python",
   "name": "python3"
  },
  "language_info": {
   "codemirror_mode": {
    "name": "ipython",
    "version": 3
   },
   "file_extension": ".py",
   "mimetype": "text/x-python",
   "name": "python",
   "nbconvert_exporter": "python",
   "pygments_lexer": "ipython3",
   "version": "3.7.4"
  }
 },
 "nbformat": 4,
 "nbformat_minor": 2
}
